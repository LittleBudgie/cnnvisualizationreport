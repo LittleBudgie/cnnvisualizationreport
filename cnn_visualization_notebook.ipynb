{
 "cells": [
  {
   "cell_type": "code",
   "execution_count": null,
   "id": "e02e993a",
   "metadata": {},
   "outputs": [],
   "source": [
    "pip install dash"
   ]
  },
  {
   "cell_type": "code",
   "execution_count": 6,
   "id": "ee3c57b2",
   "metadata": {},
   "outputs": [
    {
     "data": {
      "application/vnd.plotly.v1+json": {
       "config": {
        "plotlyServerURL": "https://plot.ly"
       },
       "data": [
        {
         "alignmentgroup": "True",
         "hovertemplate": "variable=#Present<br>Brazilian Amazon Bird Species=%{x}<br>Amount of Recordings Available=%{y}<extra></extra>",
         "legendgroup": "#Present",
         "marker": {
          "color": "green",
          "pattern": {
           "shape": ""
          }
         },
         "name": "#Present",
         "offsetgroup": "#Present",
         "orientation": "v",
         "showlegend": true,
         "textposition": "auto",
         "type": "bar",
         "x": [
          "Formicarius analis",
          "Herpsilochmus dorsimaculatus",
          "Dendrocolaptes certhia",
          "Myrmoderus ferrugineus",
          "Crypturellus variegatus",
          "Ramphotrigon ruficauda",
          "Ramphastos tucanus",
          "Vireolanius leucotis",
          "Lipaugus vociferans",
          "Frederickena viridis",
          "Thamnophilus murinus",
          "Formicarius colma",
          "Piprites chloris",
          "Patagioenas plumbea",
          "Crypturellus soui",
          "Willisornis poecilinotus",
          "Ramphocaenus melanurus",
          "Trogon viridis",
          "Nyctidromus albicollis",
          "Attila spadiceus",
          "Myrmothera campanisona",
          "Hypocnemis cantator",
          "Percnostola rufifrons subcristata",
          "Pithys albifrons",
          "Leucopternis melanops",
          "Monasa atra",
          "Mionectes macconneli",
          "Psarocolius viridis",
          "Micrastur gilvicollis",
          "Cercomacra cinerascens",
          "Pitangus sulphuratus",
          "Ortalis motmot",
          "Tinamus major",
          "Turdus albicollis",
          "Brotogeris chrysoptera",
          "Pionus menstruus",
          "Pionus fuscus",
          "Amazona autumnalis",
          "Deroptyus accipitrinus",
          "Megascops watsonii",
          "Myrmelastes leucostigma",
          "Patagioenas speciosa",
          "Glaucidium hardyi",
          "Cyanoloxia rothschildii",
          "Nyctibius griseus",
          "Trogon rufus",
          "Trogon violaceus",
          "Momotus momota",
          "Selenidera piperivora",
          "Ramphastos vitellinus",
          "Piculus chrysochloros",
          "Celeus undatus",
          "Galbula albirostris",
          "Jacamerops aureus",
          "Bucco tamatia",
          "Tyranneutes virescens",
          "Lepidothrix serena",
          "Bucco capensis",
          "Laniocera hypopyrra",
          "Phoenicircus carnifex",
          "Myiopagis gaimardii",
          "Corythopis torquatus",
          "Lophotriccus vitiosus",
          "Tolmomyias assimilis",
          "Thamnophilus punctatus",
          "Gymnopithys rufigula",
          "Schiffornis olivacea",
          "Lanio fulvus",
          "Saltator grossus",
          "Tyrannulus elatus",
          "Hylopezus macularius",
          "Hylexetastes perroti",
          "Campylorhamphus procurvoides",
          "Thamnomanes ardesiacus",
          "Myrmotherula menetriesii",
          "Glyphorynchus spirurus",
          "Cymbilaimus lineatus",
          "Cyclarhis gujanensis",
          "Pachysylvia muscicapina",
          "Automolus ochrolaemus",
          "Automolus infuscatus",
          "Rhytipterna simplex",
          "Sirystes subcanescens",
          "Micrastur semitorquatus",
          "Myiarchus ferox",
          "Xiphorhynchus pardalotus",
          "Sittasomus griseicapillus",
          "Micrastur mirandollei",
          "Tunchiornis ochraceiceps",
          "Thamnomanes caesius",
          "Odontophorus gujanensis",
          "Deconychura longicauda",
          "Microbates collaris",
          "Dendrocolaptes picumnus",
          "Myrmotherula axillaris",
          "Dryocopus lineatus",
          "Conopias parvus",
          "Dendrexetastes rufigula"
         ],
         "xaxis": "x",
         "y": [
          517,
          513,
          354,
          294,
          204,
          266,
          526,
          455,
          621,
          36,
          158,
          204,
          129,
          670,
          52,
          73,
          345,
          552,
          375,
          615,
          269,
          522,
          1357,
          70,
          72,
          124,
          166,
          113,
          125,
          333,
          82,
          361,
          183,
          62,
          90,
          133,
          96,
          63,
          16,
          183,
          16,
          64,
          649,
          53,
          348,
          35,
          309,
          634,
          23,
          647,
          22,
          102,
          25,
          51,
          80,
          410,
          220,
          42,
          60,
          126,
          60,
          215,
          25,
          74,
          144,
          23,
          10,
          172,
          38,
          33,
          320,
          29,
          16,
          132,
          166,
          34,
          52,
          417,
          578,
          177,
          130,
          364,
          55,
          115,
          205,
          220,
          105,
          24,
          85,
          82,
          17,
          51,
          66,
          44,
          28,
          27,
          19,
          42
         ],
         "yaxis": "y"
        },
        {
         "alignmentgroup": "True",
         "hovertemplate": "variable=#Absent<br>Brazilian Amazon Bird Species=%{x}<br>Amount of Recordings Available=%{y}<extra></extra>",
         "legendgroup": "#Absent",
         "marker": {
          "color": "goldenrod",
          "pattern": {
           "shape": ""
          }
         },
         "name": "#Absent",
         "offsetgroup": "#Absent",
         "orientation": "v",
         "showlegend": true,
         "textposition": "auto",
         "type": "bar",
         "x": [
          "Formicarius analis",
          "Herpsilochmus dorsimaculatus",
          "Dendrocolaptes certhia",
          "Myrmoderus ferrugineus",
          "Crypturellus variegatus",
          "Ramphotrigon ruficauda",
          "Ramphastos tucanus",
          "Vireolanius leucotis",
          "Lipaugus vociferans",
          "Frederickena viridis",
          "Thamnophilus murinus",
          "Formicarius colma",
          "Piprites chloris",
          "Patagioenas plumbea",
          "Crypturellus soui",
          "Willisornis poecilinotus",
          "Ramphocaenus melanurus",
          "Trogon viridis",
          "Nyctidromus albicollis",
          "Attila spadiceus",
          "Myrmothera campanisona",
          "Hypocnemis cantator",
          "Percnostola rufifrons subcristata",
          "Pithys albifrons",
          "Leucopternis melanops",
          "Monasa atra",
          "Mionectes macconneli",
          "Psarocolius viridis",
          "Micrastur gilvicollis",
          "Cercomacra cinerascens",
          "Pitangus sulphuratus",
          "Ortalis motmot",
          "Tinamus major",
          "Turdus albicollis",
          "Brotogeris chrysoptera",
          "Pionus menstruus",
          "Pionus fuscus",
          "Amazona autumnalis",
          "Deroptyus accipitrinus",
          "Megascops watsonii",
          "Myrmelastes leucostigma",
          "Patagioenas speciosa",
          "Glaucidium hardyi",
          "Cyanoloxia rothschildii",
          "Nyctibius griseus",
          "Trogon rufus",
          "Trogon violaceus",
          "Momotus momota",
          "Selenidera piperivora",
          "Ramphastos vitellinus",
          "Piculus chrysochloros",
          "Celeus undatus",
          "Galbula albirostris",
          "Jacamerops aureus",
          "Bucco tamatia",
          "Tyranneutes virescens",
          "Lepidothrix serena",
          "Bucco capensis",
          "Laniocera hypopyrra",
          "Phoenicircus carnifex",
          "Myiopagis gaimardii",
          "Corythopis torquatus",
          "Lophotriccus vitiosus",
          "Tolmomyias assimilis",
          "Thamnophilus punctatus",
          "Gymnopithys rufigula",
          "Schiffornis olivacea",
          "Lanio fulvus",
          "Saltator grossus",
          "Tyrannulus elatus",
          "Hylopezus macularius",
          "Hylexetastes perroti",
          "Campylorhamphus procurvoides",
          "Thamnomanes ardesiacus",
          "Myrmotherula menetriesii",
          "Glyphorynchus spirurus",
          "Cymbilaimus lineatus",
          "Cyclarhis gujanensis",
          "Pachysylvia muscicapina",
          "Automolus ochrolaemus",
          "Automolus infuscatus",
          "Rhytipterna simplex",
          "Sirystes subcanescens",
          "Micrastur semitorquatus",
          "Myiarchus ferox",
          "Xiphorhynchus pardalotus",
          "Sittasomus griseicapillus",
          "Micrastur mirandollei",
          "Tunchiornis ochraceiceps",
          "Thamnomanes caesius",
          "Odontophorus gujanensis",
          "Deconychura longicauda",
          "Microbates collaris",
          "Dendrocolaptes picumnus",
          "Myrmotherula axillaris",
          "Dryocopus lineatus",
          "Conopias parvus",
          "Dendrexetastes rufigula"
         ],
         "xaxis": "x",
         "y": [
          1119,
          1024,
          1165,
          1203,
          1214,
          1279,
          1022,
          1309,
          1249,
          1003,
          1046,
          1357,
          1149,
          958,
          1247,
          1187,
          1193,
          1004,
          1092,
          1126,
          1249,
          1120,
          1041,
          1199,
          2389,
          1119,
          2228,
          1176,
          1240,
          436,
          1169,
          1295,
          1128,
          1163,
          1014,
          1610,
          1195,
          1247,
          1064,
          507,
          1276,
          1050,
          1013,
          1266,
          3506,
          1121,
          1189,
          1102,
          1200,
          1231,
          1189,
          1089,
          1057,
          1140,
          488,
          1200,
          1584,
          1239,
          1151,
          1206,
          1226,
          3991,
          1112,
          1265,
          1221,
          1099,
          1192,
          1567,
          1137,
          1243,
          1137,
          1044,
          1200,
          1174,
          1123,
          1266,
          1270,
          1196,
          1099,
          1165,
          1132,
          1776,
          1206,
          1121,
          2996,
          1023,
          1728,
          1233,
          1138,
          1064,
          1066,
          1160,
          1207,
          1165,
          1108,
          1157,
          1154,
          1254
         ],
         "yaxis": "y"
        }
       ],
       "layout": {
        "barmode": "relative",
        "legend": {
         "title": {
          "text": "Type of Data"
         },
         "tracegroupgap": 0,
         "traceorder": "reversed"
        },
        "template": {
         "data": {
          "bar": [
           {
            "error_x": {
             "color": "#2a3f5f"
            },
            "error_y": {
             "color": "#2a3f5f"
            },
            "marker": {
             "line": {
              "color": "#E5ECF6",
              "width": 0.5
             },
             "pattern": {
              "fillmode": "overlay",
              "size": 10,
              "solidity": 0.2
             }
            },
            "type": "bar"
           }
          ],
          "barpolar": [
           {
            "marker": {
             "line": {
              "color": "#E5ECF6",
              "width": 0.5
             },
             "pattern": {
              "fillmode": "overlay",
              "size": 10,
              "solidity": 0.2
             }
            },
            "type": "barpolar"
           }
          ],
          "carpet": [
           {
            "aaxis": {
             "endlinecolor": "#2a3f5f",
             "gridcolor": "white",
             "linecolor": "white",
             "minorgridcolor": "white",
             "startlinecolor": "#2a3f5f"
            },
            "baxis": {
             "endlinecolor": "#2a3f5f",
             "gridcolor": "white",
             "linecolor": "white",
             "minorgridcolor": "white",
             "startlinecolor": "#2a3f5f"
            },
            "type": "carpet"
           }
          ],
          "choropleth": [
           {
            "colorbar": {
             "outlinewidth": 0,
             "ticks": ""
            },
            "type": "choropleth"
           }
          ],
          "contour": [
           {
            "colorbar": {
             "outlinewidth": 0,
             "ticks": ""
            },
            "colorscale": [
             [
              0,
              "#0d0887"
             ],
             [
              0.1111111111111111,
              "#46039f"
             ],
             [
              0.2222222222222222,
              "#7201a8"
             ],
             [
              0.3333333333333333,
              "#9c179e"
             ],
             [
              0.4444444444444444,
              "#bd3786"
             ],
             [
              0.5555555555555556,
              "#d8576b"
             ],
             [
              0.6666666666666666,
              "#ed7953"
             ],
             [
              0.7777777777777778,
              "#fb9f3a"
             ],
             [
              0.8888888888888888,
              "#fdca26"
             ],
             [
              1,
              "#f0f921"
             ]
            ],
            "type": "contour"
           }
          ],
          "contourcarpet": [
           {
            "colorbar": {
             "outlinewidth": 0,
             "ticks": ""
            },
            "type": "contourcarpet"
           }
          ],
          "heatmap": [
           {
            "colorbar": {
             "outlinewidth": 0,
             "ticks": ""
            },
            "colorscale": [
             [
              0,
              "#0d0887"
             ],
             [
              0.1111111111111111,
              "#46039f"
             ],
             [
              0.2222222222222222,
              "#7201a8"
             ],
             [
              0.3333333333333333,
              "#9c179e"
             ],
             [
              0.4444444444444444,
              "#bd3786"
             ],
             [
              0.5555555555555556,
              "#d8576b"
             ],
             [
              0.6666666666666666,
              "#ed7953"
             ],
             [
              0.7777777777777778,
              "#fb9f3a"
             ],
             [
              0.8888888888888888,
              "#fdca26"
             ],
             [
              1,
              "#f0f921"
             ]
            ],
            "type": "heatmap"
           }
          ],
          "heatmapgl": [
           {
            "colorbar": {
             "outlinewidth": 0,
             "ticks": ""
            },
            "colorscale": [
             [
              0,
              "#0d0887"
             ],
             [
              0.1111111111111111,
              "#46039f"
             ],
             [
              0.2222222222222222,
              "#7201a8"
             ],
             [
              0.3333333333333333,
              "#9c179e"
             ],
             [
              0.4444444444444444,
              "#bd3786"
             ],
             [
              0.5555555555555556,
              "#d8576b"
             ],
             [
              0.6666666666666666,
              "#ed7953"
             ],
             [
              0.7777777777777778,
              "#fb9f3a"
             ],
             [
              0.8888888888888888,
              "#fdca26"
             ],
             [
              1,
              "#f0f921"
             ]
            ],
            "type": "heatmapgl"
           }
          ],
          "histogram": [
           {
            "marker": {
             "pattern": {
              "fillmode": "overlay",
              "size": 10,
              "solidity": 0.2
             }
            },
            "type": "histogram"
           }
          ],
          "histogram2d": [
           {
            "colorbar": {
             "outlinewidth": 0,
             "ticks": ""
            },
            "colorscale": [
             [
              0,
              "#0d0887"
             ],
             [
              0.1111111111111111,
              "#46039f"
             ],
             [
              0.2222222222222222,
              "#7201a8"
             ],
             [
              0.3333333333333333,
              "#9c179e"
             ],
             [
              0.4444444444444444,
              "#bd3786"
             ],
             [
              0.5555555555555556,
              "#d8576b"
             ],
             [
              0.6666666666666666,
              "#ed7953"
             ],
             [
              0.7777777777777778,
              "#fb9f3a"
             ],
             [
              0.8888888888888888,
              "#fdca26"
             ],
             [
              1,
              "#f0f921"
             ]
            ],
            "type": "histogram2d"
           }
          ],
          "histogram2dcontour": [
           {
            "colorbar": {
             "outlinewidth": 0,
             "ticks": ""
            },
            "colorscale": [
             [
              0,
              "#0d0887"
             ],
             [
              0.1111111111111111,
              "#46039f"
             ],
             [
              0.2222222222222222,
              "#7201a8"
             ],
             [
              0.3333333333333333,
              "#9c179e"
             ],
             [
              0.4444444444444444,
              "#bd3786"
             ],
             [
              0.5555555555555556,
              "#d8576b"
             ],
             [
              0.6666666666666666,
              "#ed7953"
             ],
             [
              0.7777777777777778,
              "#fb9f3a"
             ],
             [
              0.8888888888888888,
              "#fdca26"
             ],
             [
              1,
              "#f0f921"
             ]
            ],
            "type": "histogram2dcontour"
           }
          ],
          "mesh3d": [
           {
            "colorbar": {
             "outlinewidth": 0,
             "ticks": ""
            },
            "type": "mesh3d"
           }
          ],
          "parcoords": [
           {
            "line": {
             "colorbar": {
              "outlinewidth": 0,
              "ticks": ""
             }
            },
            "type": "parcoords"
           }
          ],
          "pie": [
           {
            "automargin": true,
            "type": "pie"
           }
          ],
          "scatter": [
           {
            "marker": {
             "colorbar": {
              "outlinewidth": 0,
              "ticks": ""
             }
            },
            "type": "scatter"
           }
          ],
          "scatter3d": [
           {
            "line": {
             "colorbar": {
              "outlinewidth": 0,
              "ticks": ""
             }
            },
            "marker": {
             "colorbar": {
              "outlinewidth": 0,
              "ticks": ""
             }
            },
            "type": "scatter3d"
           }
          ],
          "scattercarpet": [
           {
            "marker": {
             "colorbar": {
              "outlinewidth": 0,
              "ticks": ""
             }
            },
            "type": "scattercarpet"
           }
          ],
          "scattergeo": [
           {
            "marker": {
             "colorbar": {
              "outlinewidth": 0,
              "ticks": ""
             }
            },
            "type": "scattergeo"
           }
          ],
          "scattergl": [
           {
            "marker": {
             "colorbar": {
              "outlinewidth": 0,
              "ticks": ""
             }
            },
            "type": "scattergl"
           }
          ],
          "scattermapbox": [
           {
            "marker": {
             "colorbar": {
              "outlinewidth": 0,
              "ticks": ""
             }
            },
            "type": "scattermapbox"
           }
          ],
          "scatterpolar": [
           {
            "marker": {
             "colorbar": {
              "outlinewidth": 0,
              "ticks": ""
             }
            },
            "type": "scatterpolar"
           }
          ],
          "scatterpolargl": [
           {
            "marker": {
             "colorbar": {
              "outlinewidth": 0,
              "ticks": ""
             }
            },
            "type": "scatterpolargl"
           }
          ],
          "scatterternary": [
           {
            "marker": {
             "colorbar": {
              "outlinewidth": 0,
              "ticks": ""
             }
            },
            "type": "scatterternary"
           }
          ],
          "surface": [
           {
            "colorbar": {
             "outlinewidth": 0,
             "ticks": ""
            },
            "colorscale": [
             [
              0,
              "#0d0887"
             ],
             [
              0.1111111111111111,
              "#46039f"
             ],
             [
              0.2222222222222222,
              "#7201a8"
             ],
             [
              0.3333333333333333,
              "#9c179e"
             ],
             [
              0.4444444444444444,
              "#bd3786"
             ],
             [
              0.5555555555555556,
              "#d8576b"
             ],
             [
              0.6666666666666666,
              "#ed7953"
             ],
             [
              0.7777777777777778,
              "#fb9f3a"
             ],
             [
              0.8888888888888888,
              "#fdca26"
             ],
             [
              1,
              "#f0f921"
             ]
            ],
            "type": "surface"
           }
          ],
          "table": [
           {
            "cells": {
             "fill": {
              "color": "#EBF0F8"
             },
             "line": {
              "color": "white"
             }
            },
            "header": {
             "fill": {
              "color": "#C8D4E3"
             },
             "line": {
              "color": "white"
             }
            },
            "type": "table"
           }
          ]
         },
         "layout": {
          "annotationdefaults": {
           "arrowcolor": "#2a3f5f",
           "arrowhead": 0,
           "arrowwidth": 1
          },
          "autotypenumbers": "strict",
          "coloraxis": {
           "colorbar": {
            "outlinewidth": 0,
            "ticks": ""
           }
          },
          "colorscale": {
           "diverging": [
            [
             0,
             "#8e0152"
            ],
            [
             0.1,
             "#c51b7d"
            ],
            [
             0.2,
             "#de77ae"
            ],
            [
             0.3,
             "#f1b6da"
            ],
            [
             0.4,
             "#fde0ef"
            ],
            [
             0.5,
             "#f7f7f7"
            ],
            [
             0.6,
             "#e6f5d0"
            ],
            [
             0.7,
             "#b8e186"
            ],
            [
             0.8,
             "#7fbc41"
            ],
            [
             0.9,
             "#4d9221"
            ],
            [
             1,
             "#276419"
            ]
           ],
           "sequential": [
            [
             0,
             "#0d0887"
            ],
            [
             0.1111111111111111,
             "#46039f"
            ],
            [
             0.2222222222222222,
             "#7201a8"
            ],
            [
             0.3333333333333333,
             "#9c179e"
            ],
            [
             0.4444444444444444,
             "#bd3786"
            ],
            [
             0.5555555555555556,
             "#d8576b"
            ],
            [
             0.6666666666666666,
             "#ed7953"
            ],
            [
             0.7777777777777778,
             "#fb9f3a"
            ],
            [
             0.8888888888888888,
             "#fdca26"
            ],
            [
             1,
             "#f0f921"
            ]
           ],
           "sequentialminus": [
            [
             0,
             "#0d0887"
            ],
            [
             0.1111111111111111,
             "#46039f"
            ],
            [
             0.2222222222222222,
             "#7201a8"
            ],
            [
             0.3333333333333333,
             "#9c179e"
            ],
            [
             0.4444444444444444,
             "#bd3786"
            ],
            [
             0.5555555555555556,
             "#d8576b"
            ],
            [
             0.6666666666666666,
             "#ed7953"
            ],
            [
             0.7777777777777778,
             "#fb9f3a"
            ],
            [
             0.8888888888888888,
             "#fdca26"
            ],
            [
             1,
             "#f0f921"
            ]
           ]
          },
          "colorway": [
           "#636efa",
           "#EF553B",
           "#00cc96",
           "#ab63fa",
           "#FFA15A",
           "#19d3f3",
           "#FF6692",
           "#B6E880",
           "#FF97FF",
           "#FECB52"
          ],
          "font": {
           "color": "#2a3f5f"
          },
          "geo": {
           "bgcolor": "white",
           "lakecolor": "white",
           "landcolor": "#E5ECF6",
           "showlakes": true,
           "showland": true,
           "subunitcolor": "white"
          },
          "hoverlabel": {
           "align": "left"
          },
          "hovermode": "closest",
          "mapbox": {
           "style": "light"
          },
          "paper_bgcolor": "white",
          "plot_bgcolor": "#E5ECF6",
          "polar": {
           "angularaxis": {
            "gridcolor": "white",
            "linecolor": "white",
            "ticks": ""
           },
           "bgcolor": "#E5ECF6",
           "radialaxis": {
            "gridcolor": "white",
            "linecolor": "white",
            "ticks": ""
           }
          },
          "scene": {
           "xaxis": {
            "backgroundcolor": "#E5ECF6",
            "gridcolor": "white",
            "gridwidth": 2,
            "linecolor": "white",
            "showbackground": true,
            "ticks": "",
            "zerolinecolor": "white"
           },
           "yaxis": {
            "backgroundcolor": "#E5ECF6",
            "gridcolor": "white",
            "gridwidth": 2,
            "linecolor": "white",
            "showbackground": true,
            "ticks": "",
            "zerolinecolor": "white"
           },
           "zaxis": {
            "backgroundcolor": "#E5ECF6",
            "gridcolor": "white",
            "gridwidth": 2,
            "linecolor": "white",
            "showbackground": true,
            "ticks": "",
            "zerolinecolor": "white"
           }
          },
          "shapedefaults": {
           "line": {
            "color": "#2a3f5f"
           }
          },
          "ternary": {
           "aaxis": {
            "gridcolor": "white",
            "linecolor": "white",
            "ticks": ""
           },
           "baxis": {
            "gridcolor": "white",
            "linecolor": "white",
            "ticks": ""
           },
           "bgcolor": "#E5ECF6",
           "caxis": {
            "gridcolor": "white",
            "linecolor": "white",
            "ticks": ""
           }
          },
          "title": {
           "x": 0.05
          },
          "xaxis": {
           "automargin": true,
           "gridcolor": "white",
           "linecolor": "white",
           "ticks": "",
           "title": {
            "standoff": 15
           },
           "zerolinecolor": "white",
           "zerolinewidth": 2
          },
          "yaxis": {
           "automargin": true,
           "gridcolor": "white",
           "linecolor": "white",
           "ticks": "",
           "title": {
            "standoff": 15
           },
           "zerolinecolor": "white",
           "zerolinewidth": 2
          }
         }
        },
        "title": {
         "text": "Training Data Used for Each Species, Separated By Presence and Absence Data"
        },
        "xaxis": {
         "anchor": "y",
         "categoryorder": "total descending",
         "domain": [
          0,
          1
         ],
         "tickangle": 45,
         "title": {
          "text": "Brazilian Amazon Bird Species"
         }
        },
        "yaxis": {
         "anchor": "x",
         "domain": [
          0,
          1
         ],
         "title": {
          "text": "Amount of Recordings Available"
         }
        }
       }
      },
      "text/html": [
       "<div>                            <div id=\"b47fcb8d-711b-45fe-9386-ab9be683e275\" class=\"plotly-graph-div\" style=\"height:525px; width:100%;\"></div>            <script type=\"text/javascript\">                require([\"plotly\"], function(Plotly) {                    window.PLOTLYENV=window.PLOTLYENV || {};                                    if (document.getElementById(\"b47fcb8d-711b-45fe-9386-ab9be683e275\")) {                    Plotly.newPlot(                        \"b47fcb8d-711b-45fe-9386-ab9be683e275\",                        [{\"alignmentgroup\":\"True\",\"hovertemplate\":\"variable=#Present<br>Brazilian Amazon Bird Species=%{x}<br>Amount of Recordings Available=%{y}<extra></extra>\",\"legendgroup\":\"#Present\",\"marker\":{\"color\":\"green\",\"pattern\":{\"shape\":\"\"}},\"name\":\"#Present\",\"offsetgroup\":\"#Present\",\"orientation\":\"v\",\"showlegend\":true,\"textposition\":\"auto\",\"x\":[\"Formicarius analis\",\"Herpsilochmus dorsimaculatus\",\"Dendrocolaptes certhia\",\"Myrmoderus ferrugineus\",\"Crypturellus variegatus\",\"Ramphotrigon ruficauda\",\"Ramphastos tucanus\",\"Vireolanius leucotis\",\"Lipaugus vociferans\",\"Frederickena viridis\",\"Thamnophilus murinus\",\"Formicarius colma\",\"Piprites chloris\",\"Patagioenas plumbea\",\"Crypturellus soui\",\"Willisornis poecilinotus\",\"Ramphocaenus melanurus\",\"Trogon viridis\",\"Nyctidromus albicollis\",\"Attila spadiceus\",\"Myrmothera campanisona\",\"Hypocnemis cantator\",\"Percnostola rufifrons subcristata\",\"Pithys albifrons\",\"Leucopternis melanops\",\"Monasa atra\",\"Mionectes macconneli\",\"Psarocolius viridis\",\"Micrastur gilvicollis\",\"Cercomacra cinerascens\",\"Pitangus sulphuratus\",\"Ortalis motmot\",\"Tinamus major\",\"Turdus albicollis\",\"Brotogeris chrysoptera\",\"Pionus menstruus\",\"Pionus fuscus\",\"Amazona autumnalis\",\"Deroptyus accipitrinus\",\"Megascops watsonii\",\"Myrmelastes leucostigma\",\"Patagioenas speciosa\",\"Glaucidium hardyi\",\"Cyanoloxia rothschildii\",\"Nyctibius griseus\",\"Trogon rufus\",\"Trogon violaceus\",\"Momotus momota\",\"Selenidera piperivora\",\"Ramphastos vitellinus\",\"Piculus chrysochloros\",\"Celeus undatus\",\"Galbula albirostris\",\"Jacamerops aureus\",\"Bucco tamatia\",\"Tyranneutes virescens\",\"Lepidothrix serena\",\"Bucco capensis\",\"Laniocera hypopyrra\",\"Phoenicircus carnifex\",\"Myiopagis gaimardii\",\"Corythopis torquatus\",\"Lophotriccus vitiosus\",\"Tolmomyias assimilis\",\"Thamnophilus punctatus\",\"Gymnopithys rufigula\",\"Schiffornis olivacea\",\"Lanio fulvus\",\"Saltator grossus\",\"Tyrannulus elatus\",\"Hylopezus macularius\",\"Hylexetastes perroti\",\"Campylorhamphus procurvoides\",\"Thamnomanes ardesiacus\",\"Myrmotherula menetriesii\",\"Glyphorynchus spirurus\",\"Cymbilaimus lineatus\",\"Cyclarhis gujanensis\",\"Pachysylvia muscicapina\",\"Automolus ochrolaemus\",\"Automolus infuscatus\",\"Rhytipterna simplex\",\"Sirystes subcanescens\",\"Micrastur semitorquatus\",\"Myiarchus ferox\",\"Xiphorhynchus pardalotus\",\"Sittasomus griseicapillus\",\"Micrastur mirandollei\",\"Tunchiornis ochraceiceps\",\"Thamnomanes caesius\",\"Odontophorus gujanensis\",\"Deconychura longicauda\",\"Microbates collaris\",\"Dendrocolaptes picumnus\",\"Myrmotherula axillaris\",\"Dryocopus lineatus\",\"Conopias parvus\",\"Dendrexetastes rufigula\"],\"xaxis\":\"x\",\"y\":[517,513,354,294,204,266,526,455,621,36,158,204,129,670,52,73,345,552,375,615,269,522,1357,70,72,124,166,113,125,333,82,361,183,62,90,133,96,63,16,183,16,64,649,53,348,35,309,634,23,647,22,102,25,51,80,410,220,42,60,126,60,215,25,74,144,23,10,172,38,33,320,29,16,132,166,34,52,417,578,177,130,364,55,115,205,220,105,24,85,82,17,51,66,44,28,27,19,42],\"yaxis\":\"y\",\"type\":\"bar\"},{\"alignmentgroup\":\"True\",\"hovertemplate\":\"variable=#Absent<br>Brazilian Amazon Bird Species=%{x}<br>Amount of Recordings Available=%{y}<extra></extra>\",\"legendgroup\":\"#Absent\",\"marker\":{\"color\":\"goldenrod\",\"pattern\":{\"shape\":\"\"}},\"name\":\"#Absent\",\"offsetgroup\":\"#Absent\",\"orientation\":\"v\",\"showlegend\":true,\"textposition\":\"auto\",\"x\":[\"Formicarius analis\",\"Herpsilochmus dorsimaculatus\",\"Dendrocolaptes certhia\",\"Myrmoderus ferrugineus\",\"Crypturellus variegatus\",\"Ramphotrigon ruficauda\",\"Ramphastos tucanus\",\"Vireolanius leucotis\",\"Lipaugus vociferans\",\"Frederickena viridis\",\"Thamnophilus murinus\",\"Formicarius colma\",\"Piprites chloris\",\"Patagioenas plumbea\",\"Crypturellus soui\",\"Willisornis poecilinotus\",\"Ramphocaenus melanurus\",\"Trogon viridis\",\"Nyctidromus albicollis\",\"Attila spadiceus\",\"Myrmothera campanisona\",\"Hypocnemis cantator\",\"Percnostola rufifrons subcristata\",\"Pithys albifrons\",\"Leucopternis melanops\",\"Monasa atra\",\"Mionectes macconneli\",\"Psarocolius viridis\",\"Micrastur gilvicollis\",\"Cercomacra cinerascens\",\"Pitangus sulphuratus\",\"Ortalis motmot\",\"Tinamus major\",\"Turdus albicollis\",\"Brotogeris chrysoptera\",\"Pionus menstruus\",\"Pionus fuscus\",\"Amazona autumnalis\",\"Deroptyus accipitrinus\",\"Megascops watsonii\",\"Myrmelastes leucostigma\",\"Patagioenas speciosa\",\"Glaucidium hardyi\",\"Cyanoloxia rothschildii\",\"Nyctibius griseus\",\"Trogon rufus\",\"Trogon violaceus\",\"Momotus momota\",\"Selenidera piperivora\",\"Ramphastos vitellinus\",\"Piculus chrysochloros\",\"Celeus undatus\",\"Galbula albirostris\",\"Jacamerops aureus\",\"Bucco tamatia\",\"Tyranneutes virescens\",\"Lepidothrix serena\",\"Bucco capensis\",\"Laniocera hypopyrra\",\"Phoenicircus carnifex\",\"Myiopagis gaimardii\",\"Corythopis torquatus\",\"Lophotriccus vitiosus\",\"Tolmomyias assimilis\",\"Thamnophilus punctatus\",\"Gymnopithys rufigula\",\"Schiffornis olivacea\",\"Lanio fulvus\",\"Saltator grossus\",\"Tyrannulus elatus\",\"Hylopezus macularius\",\"Hylexetastes perroti\",\"Campylorhamphus procurvoides\",\"Thamnomanes ardesiacus\",\"Myrmotherula menetriesii\",\"Glyphorynchus spirurus\",\"Cymbilaimus lineatus\",\"Cyclarhis gujanensis\",\"Pachysylvia muscicapina\",\"Automolus ochrolaemus\",\"Automolus infuscatus\",\"Rhytipterna simplex\",\"Sirystes subcanescens\",\"Micrastur semitorquatus\",\"Myiarchus ferox\",\"Xiphorhynchus pardalotus\",\"Sittasomus griseicapillus\",\"Micrastur mirandollei\",\"Tunchiornis ochraceiceps\",\"Thamnomanes caesius\",\"Odontophorus gujanensis\",\"Deconychura longicauda\",\"Microbates collaris\",\"Dendrocolaptes picumnus\",\"Myrmotherula axillaris\",\"Dryocopus lineatus\",\"Conopias parvus\",\"Dendrexetastes rufigula\"],\"xaxis\":\"x\",\"y\":[1119,1024,1165,1203,1214,1279,1022,1309,1249,1003,1046,1357,1149,958,1247,1187,1193,1004,1092,1126,1249,1120,1041,1199,2389,1119,2228,1176,1240,436,1169,1295,1128,1163,1014,1610,1195,1247,1064,507,1276,1050,1013,1266,3506,1121,1189,1102,1200,1231,1189,1089,1057,1140,488,1200,1584,1239,1151,1206,1226,3991,1112,1265,1221,1099,1192,1567,1137,1243,1137,1044,1200,1174,1123,1266,1270,1196,1099,1165,1132,1776,1206,1121,2996,1023,1728,1233,1138,1064,1066,1160,1207,1165,1108,1157,1154,1254],\"yaxis\":\"y\",\"type\":\"bar\"}],                        {\"template\":{\"data\":{\"bar\":[{\"error_x\":{\"color\":\"#2a3f5f\"},\"error_y\":{\"color\":\"#2a3f5f\"},\"marker\":{\"line\":{\"color\":\"#E5ECF6\",\"width\":0.5},\"pattern\":{\"fillmode\":\"overlay\",\"size\":10,\"solidity\":0.2}},\"type\":\"bar\"}],\"barpolar\":[{\"marker\":{\"line\":{\"color\":\"#E5ECF6\",\"width\":0.5},\"pattern\":{\"fillmode\":\"overlay\",\"size\":10,\"solidity\":0.2}},\"type\":\"barpolar\"}],\"carpet\":[{\"aaxis\":{\"endlinecolor\":\"#2a3f5f\",\"gridcolor\":\"white\",\"linecolor\":\"white\",\"minorgridcolor\":\"white\",\"startlinecolor\":\"#2a3f5f\"},\"baxis\":{\"endlinecolor\":\"#2a3f5f\",\"gridcolor\":\"white\",\"linecolor\":\"white\",\"minorgridcolor\":\"white\",\"startlinecolor\":\"#2a3f5f\"},\"type\":\"carpet\"}],\"choropleth\":[{\"colorbar\":{\"outlinewidth\":0,\"ticks\":\"\"},\"type\":\"choropleth\"}],\"contour\":[{\"colorbar\":{\"outlinewidth\":0,\"ticks\":\"\"},\"colorscale\":[[0.0,\"#0d0887\"],[0.1111111111111111,\"#46039f\"],[0.2222222222222222,\"#7201a8\"],[0.3333333333333333,\"#9c179e\"],[0.4444444444444444,\"#bd3786\"],[0.5555555555555556,\"#d8576b\"],[0.6666666666666666,\"#ed7953\"],[0.7777777777777778,\"#fb9f3a\"],[0.8888888888888888,\"#fdca26\"],[1.0,\"#f0f921\"]],\"type\":\"contour\"}],\"contourcarpet\":[{\"colorbar\":{\"outlinewidth\":0,\"ticks\":\"\"},\"type\":\"contourcarpet\"}],\"heatmap\":[{\"colorbar\":{\"outlinewidth\":0,\"ticks\":\"\"},\"colorscale\":[[0.0,\"#0d0887\"],[0.1111111111111111,\"#46039f\"],[0.2222222222222222,\"#7201a8\"],[0.3333333333333333,\"#9c179e\"],[0.4444444444444444,\"#bd3786\"],[0.5555555555555556,\"#d8576b\"],[0.6666666666666666,\"#ed7953\"],[0.7777777777777778,\"#fb9f3a\"],[0.8888888888888888,\"#fdca26\"],[1.0,\"#f0f921\"]],\"type\":\"heatmap\"}],\"heatmapgl\":[{\"colorbar\":{\"outlinewidth\":0,\"ticks\":\"\"},\"colorscale\":[[0.0,\"#0d0887\"],[0.1111111111111111,\"#46039f\"],[0.2222222222222222,\"#7201a8\"],[0.3333333333333333,\"#9c179e\"],[0.4444444444444444,\"#bd3786\"],[0.5555555555555556,\"#d8576b\"],[0.6666666666666666,\"#ed7953\"],[0.7777777777777778,\"#fb9f3a\"],[0.8888888888888888,\"#fdca26\"],[1.0,\"#f0f921\"]],\"type\":\"heatmapgl\"}],\"histogram\":[{\"marker\":{\"pattern\":{\"fillmode\":\"overlay\",\"size\":10,\"solidity\":0.2}},\"type\":\"histogram\"}],\"histogram2d\":[{\"colorbar\":{\"outlinewidth\":0,\"ticks\":\"\"},\"colorscale\":[[0.0,\"#0d0887\"],[0.1111111111111111,\"#46039f\"],[0.2222222222222222,\"#7201a8\"],[0.3333333333333333,\"#9c179e\"],[0.4444444444444444,\"#bd3786\"],[0.5555555555555556,\"#d8576b\"],[0.6666666666666666,\"#ed7953\"],[0.7777777777777778,\"#fb9f3a\"],[0.8888888888888888,\"#fdca26\"],[1.0,\"#f0f921\"]],\"type\":\"histogram2d\"}],\"histogram2dcontour\":[{\"colorbar\":{\"outlinewidth\":0,\"ticks\":\"\"},\"colorscale\":[[0.0,\"#0d0887\"],[0.1111111111111111,\"#46039f\"],[0.2222222222222222,\"#7201a8\"],[0.3333333333333333,\"#9c179e\"],[0.4444444444444444,\"#bd3786\"],[0.5555555555555556,\"#d8576b\"],[0.6666666666666666,\"#ed7953\"],[0.7777777777777778,\"#fb9f3a\"],[0.8888888888888888,\"#fdca26\"],[1.0,\"#f0f921\"]],\"type\":\"histogram2dcontour\"}],\"mesh3d\":[{\"colorbar\":{\"outlinewidth\":0,\"ticks\":\"\"},\"type\":\"mesh3d\"}],\"parcoords\":[{\"line\":{\"colorbar\":{\"outlinewidth\":0,\"ticks\":\"\"}},\"type\":\"parcoords\"}],\"pie\":[{\"automargin\":true,\"type\":\"pie\"}],\"scatter\":[{\"marker\":{\"colorbar\":{\"outlinewidth\":0,\"ticks\":\"\"}},\"type\":\"scatter\"}],\"scatter3d\":[{\"line\":{\"colorbar\":{\"outlinewidth\":0,\"ticks\":\"\"}},\"marker\":{\"colorbar\":{\"outlinewidth\":0,\"ticks\":\"\"}},\"type\":\"scatter3d\"}],\"scattercarpet\":[{\"marker\":{\"colorbar\":{\"outlinewidth\":0,\"ticks\":\"\"}},\"type\":\"scattercarpet\"}],\"scattergeo\":[{\"marker\":{\"colorbar\":{\"outlinewidth\":0,\"ticks\":\"\"}},\"type\":\"scattergeo\"}],\"scattergl\":[{\"marker\":{\"colorbar\":{\"outlinewidth\":0,\"ticks\":\"\"}},\"type\":\"scattergl\"}],\"scattermapbox\":[{\"marker\":{\"colorbar\":{\"outlinewidth\":0,\"ticks\":\"\"}},\"type\":\"scattermapbox\"}],\"scatterpolar\":[{\"marker\":{\"colorbar\":{\"outlinewidth\":0,\"ticks\":\"\"}},\"type\":\"scatterpolar\"}],\"scatterpolargl\":[{\"marker\":{\"colorbar\":{\"outlinewidth\":0,\"ticks\":\"\"}},\"type\":\"scatterpolargl\"}],\"scatterternary\":[{\"marker\":{\"colorbar\":{\"outlinewidth\":0,\"ticks\":\"\"}},\"type\":\"scatterternary\"}],\"surface\":[{\"colorbar\":{\"outlinewidth\":0,\"ticks\":\"\"},\"colorscale\":[[0.0,\"#0d0887\"],[0.1111111111111111,\"#46039f\"],[0.2222222222222222,\"#7201a8\"],[0.3333333333333333,\"#9c179e\"],[0.4444444444444444,\"#bd3786\"],[0.5555555555555556,\"#d8576b\"],[0.6666666666666666,\"#ed7953\"],[0.7777777777777778,\"#fb9f3a\"],[0.8888888888888888,\"#fdca26\"],[1.0,\"#f0f921\"]],\"type\":\"surface\"}],\"table\":[{\"cells\":{\"fill\":{\"color\":\"#EBF0F8\"},\"line\":{\"color\":\"white\"}},\"header\":{\"fill\":{\"color\":\"#C8D4E3\"},\"line\":{\"color\":\"white\"}},\"type\":\"table\"}]},\"layout\":{\"annotationdefaults\":{\"arrowcolor\":\"#2a3f5f\",\"arrowhead\":0,\"arrowwidth\":1},\"autotypenumbers\":\"strict\",\"coloraxis\":{\"colorbar\":{\"outlinewidth\":0,\"ticks\":\"\"}},\"colorscale\":{\"diverging\":[[0,\"#8e0152\"],[0.1,\"#c51b7d\"],[0.2,\"#de77ae\"],[0.3,\"#f1b6da\"],[0.4,\"#fde0ef\"],[0.5,\"#f7f7f7\"],[0.6,\"#e6f5d0\"],[0.7,\"#b8e186\"],[0.8,\"#7fbc41\"],[0.9,\"#4d9221\"],[1,\"#276419\"]],\"sequential\":[[0.0,\"#0d0887\"],[0.1111111111111111,\"#46039f\"],[0.2222222222222222,\"#7201a8\"],[0.3333333333333333,\"#9c179e\"],[0.4444444444444444,\"#bd3786\"],[0.5555555555555556,\"#d8576b\"],[0.6666666666666666,\"#ed7953\"],[0.7777777777777778,\"#fb9f3a\"],[0.8888888888888888,\"#fdca26\"],[1.0,\"#f0f921\"]],\"sequentialminus\":[[0.0,\"#0d0887\"],[0.1111111111111111,\"#46039f\"],[0.2222222222222222,\"#7201a8\"],[0.3333333333333333,\"#9c179e\"],[0.4444444444444444,\"#bd3786\"],[0.5555555555555556,\"#d8576b\"],[0.6666666666666666,\"#ed7953\"],[0.7777777777777778,\"#fb9f3a\"],[0.8888888888888888,\"#fdca26\"],[1.0,\"#f0f921\"]]},\"colorway\":[\"#636efa\",\"#EF553B\",\"#00cc96\",\"#ab63fa\",\"#FFA15A\",\"#19d3f3\",\"#FF6692\",\"#B6E880\",\"#FF97FF\",\"#FECB52\"],\"font\":{\"color\":\"#2a3f5f\"},\"geo\":{\"bgcolor\":\"white\",\"lakecolor\":\"white\",\"landcolor\":\"#E5ECF6\",\"showlakes\":true,\"showland\":true,\"subunitcolor\":\"white\"},\"hoverlabel\":{\"align\":\"left\"},\"hovermode\":\"closest\",\"mapbox\":{\"style\":\"light\"},\"paper_bgcolor\":\"white\",\"plot_bgcolor\":\"#E5ECF6\",\"polar\":{\"angularaxis\":{\"gridcolor\":\"white\",\"linecolor\":\"white\",\"ticks\":\"\"},\"bgcolor\":\"#E5ECF6\",\"radialaxis\":{\"gridcolor\":\"white\",\"linecolor\":\"white\",\"ticks\":\"\"}},\"scene\":{\"xaxis\":{\"backgroundcolor\":\"#E5ECF6\",\"gridcolor\":\"white\",\"gridwidth\":2,\"linecolor\":\"white\",\"showbackground\":true,\"ticks\":\"\",\"zerolinecolor\":\"white\"},\"yaxis\":{\"backgroundcolor\":\"#E5ECF6\",\"gridcolor\":\"white\",\"gridwidth\":2,\"linecolor\":\"white\",\"showbackground\":true,\"ticks\":\"\",\"zerolinecolor\":\"white\"},\"zaxis\":{\"backgroundcolor\":\"#E5ECF6\",\"gridcolor\":\"white\",\"gridwidth\":2,\"linecolor\":\"white\",\"showbackground\":true,\"ticks\":\"\",\"zerolinecolor\":\"white\"}},\"shapedefaults\":{\"line\":{\"color\":\"#2a3f5f\"}},\"ternary\":{\"aaxis\":{\"gridcolor\":\"white\",\"linecolor\":\"white\",\"ticks\":\"\"},\"baxis\":{\"gridcolor\":\"white\",\"linecolor\":\"white\",\"ticks\":\"\"},\"bgcolor\":\"#E5ECF6\",\"caxis\":{\"gridcolor\":\"white\",\"linecolor\":\"white\",\"ticks\":\"\"}},\"title\":{\"x\":0.05},\"xaxis\":{\"automargin\":true,\"gridcolor\":\"white\",\"linecolor\":\"white\",\"ticks\":\"\",\"title\":{\"standoff\":15},\"zerolinecolor\":\"white\",\"zerolinewidth\":2},\"yaxis\":{\"automargin\":true,\"gridcolor\":\"white\",\"linecolor\":\"white\",\"ticks\":\"\",\"title\":{\"standoff\":15},\"zerolinecolor\":\"white\",\"zerolinewidth\":2}}},\"xaxis\":{\"anchor\":\"y\",\"domain\":[0.0,1.0],\"title\":{\"text\":\"Brazilian Amazon Bird Species\"},\"tickangle\":45,\"categoryorder\":\"total descending\"},\"yaxis\":{\"anchor\":\"x\",\"domain\":[0.0,1.0],\"title\":{\"text\":\"Amount of Recordings Available\"}},\"legend\":{\"title\":{\"text\":\"Type of Data\"},\"tracegroupgap\":0,\"traceorder\":\"reversed\"},\"title\":{\"text\":\"Training Data Used for Each Species, Separated By Presence and Absence Data\"},\"barmode\":\"relative\"},                        {\"responsive\": true}                    ).then(function(){\n",
       "                            \n",
       "var gd = document.getElementById('b47fcb8d-711b-45fe-9386-ab9be683e275');\n",
       "var x = new MutationObserver(function (mutations, observer) {{\n",
       "        var display = window.getComputedStyle(gd).display;\n",
       "        if (!display || display === 'none') {{\n",
       "            console.log([gd, 'removed!']);\n",
       "            Plotly.purge(gd);\n",
       "            observer.disconnect();\n",
       "        }}\n",
       "}});\n",
       "\n",
       "// Listen for the removal of the full notebook cells\n",
       "var notebookContainer = gd.closest('#notebook-container');\n",
       "if (notebookContainer) {{\n",
       "    x.observe(notebookContainer, {childList: true});\n",
       "}}\n",
       "\n",
       "// Listen for the clearing of the current output cell\n",
       "var outputEl = gd.closest('.output');\n",
       "if (outputEl) {{\n",
       "    x.observe(outputEl, {childList: true});\n",
       "}}\n",
       "\n",
       "                        })                };                });            </script>        </div>"
      ]
     },
     "metadata": {},
     "output_type": "display_data"
    }
   ],
   "source": [
    "#test cell testing plotly\n",
    "import plotly as plotly\n",
    "import plotly.express as px\n",
    "import pandas as pd\n",
    "df = pd.read_csv('data/pm_jobs.csv',sep=';')\n",
    "sortedbarchart = px.bar(df, x = 'Species', y = ['#Present', '#Absent'], title = \"Training Data Used for Each Species, Separated By Presence and Absence Data\",\n",
    "              labels = {'Species': 'Brazilian Amazon Bird Species', 'value': 'Amount of Recordings Available'}, \n",
    "                       color_discrete_sequence = ['green', 'goldenrod'])\n",
    "sortedbarchart.update_xaxes(tickangle = 45, categoryorder = 'total descending')\n",
    "sortedbarchart.update_layout(legend_title = 'Type of Data', legend_traceorder = 'reversed')\n",
    "sortedbarchart.show()\n",
    "#sortedbarchart.write_html(\"cnntestindex.html\")"
   ]
  },
  {
   "cell_type": "code",
   "execution_count": 8,
   "id": "01905b39",
   "metadata": {},
   "outputs": [
    {
     "data": {
      "text/plain": [
       "'<div>                            <div id=\"2c8c40c1-f1b6-4e2a-add2-d16912c7256d\" class=\"plotly-graph-div\" style=\"height:100%; width:100%;\"></div>            <script type=\"text/javascript\">                                    window.PLOTLYENV=window.PLOTLYENV || {};                                    if (document.getElementById(\"2c8c40c1-f1b6-4e2a-add2-d16912c7256d\")) {                    Plotly.newPlot(                        \"2c8c40c1-f1b6-4e2a-add2-d16912c7256d\",                        [{\"alignmentgroup\":\"True\",\"hovertemplate\":\"variable=#Present<br>Brazilian Amazon Bird Species=%{x}<br>Amount of Recordings Available=%{y}<extra></extra>\",\"legendgroup\":\"#Present\",\"marker\":{\"color\":\"green\",\"pattern\":{\"shape\":\"\"}},\"name\":\"#Present\",\"offsetgroup\":\"#Present\",\"orientation\":\"v\",\"showlegend\":true,\"textposition\":\"auto\",\"x\":[\"Formicarius analis\",\"Herpsilochmus dorsimaculatus\",\"Dendrocolaptes certhia\",\"Myrmoderus ferrugineus\",\"Crypturellus variegatus\",\"Ramphotrigon ruficauda\",\"Ramphastos tucanus\",\"Vireolanius leucotis\",\"Lipaugus vociferans\",\"Frederickena viridis\",\"Thamnophilus murinus\",\"Formicarius colma\",\"Piprites chloris\",\"Patagioenas plumbea\",\"Crypturellus soui\",\"Willisornis poecilinotus\",\"Ramphocaenus melanurus\",\"Trogon viridis\",\"Nyctidromus albicollis\",\"Attila spadiceus\",\"Myrmothera campanisona\",\"Hypocnemis cantator\",\"Percnostola rufifrons subcristata\",\"Pithys albifrons\",\"Leucopternis melanops\",\"Monasa atra\",\"Mionectes macconneli\",\"Psarocolius viridis\",\"Micrastur gilvicollis\",\"Cercomacra cinerascens\",\"Pitangus sulphuratus\",\"Ortalis motmot\",\"Tinamus major\",\"Turdus albicollis\",\"Brotogeris chrysoptera\",\"Pionus menstruus\",\"Pionus fuscus\",\"Amazona autumnalis\",\"Deroptyus accipitrinus\",\"Megascops watsonii\",\"Myrmelastes leucostigma\",\"Patagioenas speciosa\",\"Glaucidium hardyi\",\"Cyanoloxia rothschildii\",\"Nyctibius griseus\",\"Trogon rufus\",\"Trogon violaceus\",\"Momotus momota\",\"Selenidera piperivora\",\"Ramphastos vitellinus\",\"Piculus chrysochloros\",\"Celeus undatus\",\"Galbula albirostris\",\"Jacamerops aureus\",\"Bucco tamatia\",\"Tyranneutes virescens\",\"Lepidothrix serena\",\"Bucco capensis\",\"Laniocera hypopyrra\",\"Phoenicircus carnifex\",\"Myiopagis gaimardii\",\"Corythopis torquatus\",\"Lophotriccus vitiosus\",\"Tolmomyias assimilis\",\"Thamnophilus punctatus\",\"Gymnopithys rufigula\",\"Schiffornis olivacea\",\"Lanio fulvus\",\"Saltator grossus\",\"Tyrannulus elatus\",\"Hylopezus macularius\",\"Hylexetastes perroti\",\"Campylorhamphus procurvoides\",\"Thamnomanes ardesiacus\",\"Myrmotherula menetriesii\",\"Glyphorynchus spirurus\",\"Cymbilaimus lineatus\",\"Cyclarhis gujanensis\",\"Pachysylvia muscicapina\",\"Automolus ochrolaemus\",\"Automolus infuscatus\",\"Rhytipterna simplex\",\"Sirystes subcanescens\",\"Micrastur semitorquatus\",\"Myiarchus ferox\",\"Xiphorhynchus pardalotus\",\"Sittasomus griseicapillus\",\"Micrastur mirandollei\",\"Tunchiornis ochraceiceps\",\"Thamnomanes caesius\",\"Odontophorus gujanensis\",\"Deconychura longicauda\",\"Microbates collaris\",\"Dendrocolaptes picumnus\",\"Myrmotherula axillaris\",\"Dryocopus lineatus\",\"Conopias parvus\",\"Dendrexetastes rufigula\"],\"xaxis\":\"x\",\"y\":[517,513,354,294,204,266,526,455,621,36,158,204,129,670,52,73,345,552,375,615,269,522,1357,70,72,124,166,113,125,333,82,361,183,62,90,133,96,63,16,183,16,64,649,53,348,35,309,634,23,647,22,102,25,51,80,410,220,42,60,126,60,215,25,74,144,23,10,172,38,33,320,29,16,132,166,34,52,417,578,177,130,364,55,115,205,220,105,24,85,82,17,51,66,44,28,27,19,42],\"yaxis\":\"y\",\"type\":\"bar\"},{\"alignmentgroup\":\"True\",\"hovertemplate\":\"variable=#Absent<br>Brazilian Amazon Bird Species=%{x}<br>Amount of Recordings Available=%{y}<extra></extra>\",\"legendgroup\":\"#Absent\",\"marker\":{\"color\":\"goldenrod\",\"pattern\":{\"shape\":\"\"}},\"name\":\"#Absent\",\"offsetgroup\":\"#Absent\",\"orientation\":\"v\",\"showlegend\":true,\"textposition\":\"auto\",\"x\":[\"Formicarius analis\",\"Herpsilochmus dorsimaculatus\",\"Dendrocolaptes certhia\",\"Myrmoderus ferrugineus\",\"Crypturellus variegatus\",\"Ramphotrigon ruficauda\",\"Ramphastos tucanus\",\"Vireolanius leucotis\",\"Lipaugus vociferans\",\"Frederickena viridis\",\"Thamnophilus murinus\",\"Formicarius colma\",\"Piprites chloris\",\"Patagioenas plumbea\",\"Crypturellus soui\",\"Willisornis poecilinotus\",\"Ramphocaenus melanurus\",\"Trogon viridis\",\"Nyctidromus albicollis\",\"Attila spadiceus\",\"Myrmothera campanisona\",\"Hypocnemis cantator\",\"Percnostola rufifrons subcristata\",\"Pithys albifrons\",\"Leucopternis melanops\",\"Monasa atra\",\"Mionectes macconneli\",\"Psarocolius viridis\",\"Micrastur gilvicollis\",\"Cercomacra cinerascens\",\"Pitangus sulphuratus\",\"Ortalis motmot\",\"Tinamus major\",\"Turdus albicollis\",\"Brotogeris chrysoptera\",\"Pionus menstruus\",\"Pionus fuscus\",\"Amazona autumnalis\",\"Deroptyus accipitrinus\",\"Megascops watsonii\",\"Myrmelastes leucostigma\",\"Patagioenas speciosa\",\"Glaucidium hardyi\",\"Cyanoloxia rothschildii\",\"Nyctibius griseus\",\"Trogon rufus\",\"Trogon violaceus\",\"Momotus momota\",\"Selenidera piperivora\",\"Ramphastos vitellinus\",\"Piculus chrysochloros\",\"Celeus undatus\",\"Galbula albirostris\",\"Jacamerops aureus\",\"Bucco tamatia\",\"Tyranneutes virescens\",\"Lepidothrix serena\",\"Bucco capensis\",\"Laniocera hypopyrra\",\"Phoenicircus carnifex\",\"Myiopagis gaimardii\",\"Corythopis torquatus\",\"Lophotriccus vitiosus\",\"Tolmomyias assimilis\",\"Thamnophilus punctatus\",\"Gymnopithys rufigula\",\"Schiffornis olivacea\",\"Lanio fulvus\",\"Saltator grossus\",\"Tyrannulus elatus\",\"Hylopezus macularius\",\"Hylexetastes perroti\",\"Campylorhamphus procurvoides\",\"Thamnomanes ardesiacus\",\"Myrmotherula menetriesii\",\"Glyphorynchus spirurus\",\"Cymbilaimus lineatus\",\"Cyclarhis gujanensis\",\"Pachysylvia muscicapina\",\"Automolus ochrolaemus\",\"Automolus infuscatus\",\"Rhytipterna simplex\",\"Sirystes subcanescens\",\"Micrastur semitorquatus\",\"Myiarchus ferox\",\"Xiphorhynchus pardalotus\",\"Sittasomus griseicapillus\",\"Micrastur mirandollei\",\"Tunchiornis ochraceiceps\",\"Thamnomanes caesius\",\"Odontophorus gujanensis\",\"Deconychura longicauda\",\"Microbates collaris\",\"Dendrocolaptes picumnus\",\"Myrmotherula axillaris\",\"Dryocopus lineatus\",\"Conopias parvus\",\"Dendrexetastes rufigula\"],\"xaxis\":\"x\",\"y\":[1119,1024,1165,1203,1214,1279,1022,1309,1249,1003,1046,1357,1149,958,1247,1187,1193,1004,1092,1126,1249,1120,1041,1199,2389,1119,2228,1176,1240,436,1169,1295,1128,1163,1014,1610,1195,1247,1064,507,1276,1050,1013,1266,3506,1121,1189,1102,1200,1231,1189,1089,1057,1140,488,1200,1584,1239,1151,1206,1226,3991,1112,1265,1221,1099,1192,1567,1137,1243,1137,1044,1200,1174,1123,1266,1270,1196,1099,1165,1132,1776,1206,1121,2996,1023,1728,1233,1138,1064,1066,1160,1207,1165,1108,1157,1154,1254],\"yaxis\":\"y\",\"type\":\"bar\"}],                        {\"barmode\":\"relative\",\"legend\":{\"title\":{\"text\":\"Type of Data\"},\"tracegroupgap\":0,\"traceorder\":\"reversed\"},\"template\":{\"data\":{\"barpolar\":[{\"marker\":{\"line\":{\"color\":\"#E5ECF6\",\"width\":0.5},\"pattern\":{\"fillmode\":\"overlay\",\"size\":10,\"solidity\":0.2}},\"type\":\"barpolar\"}],\"bar\":[{\"error_x\":{\"color\":\"#2a3f5f\"},\"error_y\":{\"color\":\"#2a3f5f\"},\"marker\":{\"line\":{\"color\":\"#E5ECF6\",\"width\":0.5},\"pattern\":{\"fillmode\":\"overlay\",\"size\":10,\"solidity\":0.2}},\"type\":\"bar\"}],\"carpet\":[{\"aaxis\":{\"endlinecolor\":\"#2a3f5f\",\"gridcolor\":\"white\",\"linecolor\":\"white\",\"minorgridcolor\":\"white\",\"startlinecolor\":\"#2a3f5f\"},\"baxis\":{\"endlinecolor\":\"#2a3f5f\",\"gridcolor\":\"white\",\"linecolor\":\"white\",\"minorgridcolor\":\"white\",\"startlinecolor\":\"#2a3f5f\"},\"type\":\"carpet\"}],\"choropleth\":[{\"colorbar\":{\"outlinewidth\":0,\"ticks\":\"\"},\"type\":\"choropleth\"}],\"contourcarpet\":[{\"colorbar\":{\"outlinewidth\":0,\"ticks\":\"\"},\"type\":\"contourcarpet\"}],\"contour\":[{\"colorbar\":{\"outlinewidth\":0,\"ticks\":\"\"},\"colorscale\":[[0.0,\"#0d0887\"],[0.1111111111111111,\"#46039f\"],[0.2222222222222222,\"#7201a8\"],[0.3333333333333333,\"#9c179e\"],[0.4444444444444444,\"#bd3786\"],[0.5555555555555556,\"#d8576b\"],[0.6666666666666666,\"#ed7953\"],[0.7777777777777778,\"#fb9f3a\"],[0.8888888888888888,\"#fdca26\"],[1.0,\"#f0f921\"]],\"type\":\"contour\"}],\"heatmapgl\":[{\"colorbar\":{\"outlinewidth\":0,\"ticks\":\"\"},\"colorscale\":[[0.0,\"#0d0887\"],[0.1111111111111111,\"#46039f\"],[0.2222222222222222,\"#7201a8\"],[0.3333333333333333,\"#9c179e\"],[0.4444444444444444,\"#bd3786\"],[0.5555555555555556,\"#d8576b\"],[0.6666666666666666,\"#ed7953\"],[0.7777777777777778,\"#fb9f3a\"],[0.8888888888888888,\"#fdca26\"],[1.0,\"#f0f921\"]],\"type\":\"heatmapgl\"}],\"heatmap\":[{\"colorbar\":{\"outlinewidth\":0,\"ticks\":\"\"},\"colorscale\":[[0.0,\"#0d0887\"],[0.1111111111111111,\"#46039f\"],[0.2222222222222222,\"#7201a8\"],[0.3333333333333333,\"#9c179e\"],[0.4444444444444444,\"#bd3786\"],[0.5555555555555556,\"#d8576b\"],[0.6666666666666666,\"#ed7953\"],[0.7777777777777778,\"#fb9f3a\"],[0.8888888888888888,\"#fdca26\"],[1.0,\"#f0f921\"]],\"type\":\"heatmap\"}],\"histogram2dcontour\":[{\"colorbar\":{\"outlinewidth\":0,\"ticks\":\"\"},\"colorscale\":[[0.0,\"#0d0887\"],[0.1111111111111111,\"#46039f\"],[0.2222222222222222,\"#7201a8\"],[0.3333333333333333,\"#9c179e\"],[0.4444444444444444,\"#bd3786\"],[0.5555555555555556,\"#d8576b\"],[0.6666666666666666,\"#ed7953\"],[0.7777777777777778,\"#fb9f3a\"],[0.8888888888888888,\"#fdca26\"],[1.0,\"#f0f921\"]],\"type\":\"histogram2dcontour\"}],\"histogram2d\":[{\"colorbar\":{\"outlinewidth\":0,\"ticks\":\"\"},\"colorscale\":[[0.0,\"#0d0887\"],[0.1111111111111111,\"#46039f\"],[0.2222222222222222,\"#7201a8\"],[0.3333333333333333,\"#9c179e\"],[0.4444444444444444,\"#bd3786\"],[0.5555555555555556,\"#d8576b\"],[0.6666666666666666,\"#ed7953\"],[0.7777777777777778,\"#fb9f3a\"],[0.8888888888888888,\"#fdca26\"],[1.0,\"#f0f921\"]],\"type\":\"histogram2d\"}],\"histogram\":[{\"marker\":{\"pattern\":{\"fillmode\":\"overlay\",\"size\":10,\"solidity\":0.2}},\"type\":\"histogram\"}],\"mesh3d\":[{\"colorbar\":{\"outlinewidth\":0,\"ticks\":\"\"},\"type\":\"mesh3d\"}],\"parcoords\":[{\"line\":{\"colorbar\":{\"outlinewidth\":0,\"ticks\":\"\"}},\"type\":\"parcoords\"}],\"pie\":[{\"automargin\":true,\"type\":\"pie\"}],\"scatter3d\":[{\"line\":{\"colorbar\":{\"outlinewidth\":0,\"ticks\":\"\"}},\"marker\":{\"colorbar\":{\"outlinewidth\":0,\"ticks\":\"\"}},\"type\":\"scatter3d\"}],\"scattercarpet\":[{\"marker\":{\"colorbar\":{\"outlinewidth\":0,\"ticks\":\"\"}},\"type\":\"scattercarpet\"}],\"scattergeo\":[{\"marker\":{\"colorbar\":{\"outlinewidth\":0,\"ticks\":\"\"}},\"type\":\"scattergeo\"}],\"scattergl\":[{\"marker\":{\"colorbar\":{\"outlinewidth\":0,\"ticks\":\"\"}},\"type\":\"scattergl\"}],\"scattermapbox\":[{\"marker\":{\"colorbar\":{\"outlinewidth\":0,\"ticks\":\"\"}},\"type\":\"scattermapbox\"}],\"scatterpolargl\":[{\"marker\":{\"colorbar\":{\"outlinewidth\":0,\"ticks\":\"\"}},\"type\":\"scatterpolargl\"}],\"scatterpolar\":[{\"marker\":{\"colorbar\":{\"outlinewidth\":0,\"ticks\":\"\"}},\"type\":\"scatterpolar\"}],\"scatter\":[{\"marker\":{\"colorbar\":{\"outlinewidth\":0,\"ticks\":\"\"}},\"type\":\"scatter\"}],\"scatterternary\":[{\"marker\":{\"colorbar\":{\"outlinewidth\":0,\"ticks\":\"\"}},\"type\":\"scatterternary\"}],\"surface\":[{\"colorbar\":{\"outlinewidth\":0,\"ticks\":\"\"},\"colorscale\":[[0.0,\"#0d0887\"],[0.1111111111111111,\"#46039f\"],[0.2222222222222222,\"#7201a8\"],[0.3333333333333333,\"#9c179e\"],[0.4444444444444444,\"#bd3786\"],[0.5555555555555556,\"#d8576b\"],[0.6666666666666666,\"#ed7953\"],[0.7777777777777778,\"#fb9f3a\"],[0.8888888888888888,\"#fdca26\"],[1.0,\"#f0f921\"]],\"type\":\"surface\"}],\"table\":[{\"cells\":{\"fill\":{\"color\":\"#EBF0F8\"},\"line\":{\"color\":\"white\"}},\"header\":{\"fill\":{\"color\":\"#C8D4E3\"},\"line\":{\"color\":\"white\"}},\"type\":\"table\"}]},\"layout\":{\"annotationdefaults\":{\"arrowcolor\":\"#2a3f5f\",\"arrowhead\":0,\"arrowwidth\":1},\"autotypenumbers\":\"strict\",\"coloraxis\":{\"colorbar\":{\"outlinewidth\":0,\"ticks\":\"\"}},\"colorscale\":{\"diverging\":[[0,\"#8e0152\"],[0.1,\"#c51b7d\"],[0.2,\"#de77ae\"],[0.3,\"#f1b6da\"],[0.4,\"#fde0ef\"],[0.5,\"#f7f7f7\"],[0.6,\"#e6f5d0\"],[0.7,\"#b8e186\"],[0.8,\"#7fbc41\"],[0.9,\"#4d9221\"],[1,\"#276419\"]],\"sequential\":[[0.0,\"#0d0887\"],[0.1111111111111111,\"#46039f\"],[0.2222222222222222,\"#7201a8\"],[0.3333333333333333,\"#9c179e\"],[0.4444444444444444,\"#bd3786\"],[0.5555555555555556,\"#d8576b\"],[0.6666666666666666,\"#ed7953\"],[0.7777777777777778,\"#fb9f3a\"],[0.8888888888888888,\"#fdca26\"],[1.0,\"#f0f921\"]],\"sequentialminus\":[[0.0,\"#0d0887\"],[0.1111111111111111,\"#46039f\"],[0.2222222222222222,\"#7201a8\"],[0.3333333333333333,\"#9c179e\"],[0.4444444444444444,\"#bd3786\"],[0.5555555555555556,\"#d8576b\"],[0.6666666666666666,\"#ed7953\"],[0.7777777777777778,\"#fb9f3a\"],[0.8888888888888888,\"#fdca26\"],[1.0,\"#f0f921\"]]},\"colorway\":[\"#636efa\",\"#EF553B\",\"#00cc96\",\"#ab63fa\",\"#FFA15A\",\"#19d3f3\",\"#FF6692\",\"#B6E880\",\"#FF97FF\",\"#FECB52\"],\"font\":{\"color\":\"#2a3f5f\"},\"geo\":{\"bgcolor\":\"white\",\"lakecolor\":\"white\",\"landcolor\":\"#E5ECF6\",\"showlakes\":true,\"showland\":true,\"subunitcolor\":\"white\"},\"hoverlabel\":{\"align\":\"left\"},\"hovermode\":\"closest\",\"mapbox\":{\"style\":\"light\"},\"paper_bgcolor\":\"white\",\"plot_bgcolor\":\"#E5ECF6\",\"polar\":{\"angularaxis\":{\"gridcolor\":\"white\",\"linecolor\":\"white\",\"ticks\":\"\"},\"bgcolor\":\"#E5ECF6\",\"radialaxis\":{\"gridcolor\":\"white\",\"linecolor\":\"white\",\"ticks\":\"\"}},\"scene\":{\"xaxis\":{\"backgroundcolor\":\"#E5ECF6\",\"gridcolor\":\"white\",\"gridwidth\":2,\"linecolor\":\"white\",\"showbackground\":true,\"ticks\":\"\",\"zerolinecolor\":\"white\"},\"yaxis\":{\"backgroundcolor\":\"#E5ECF6\",\"gridcolor\":\"white\",\"gridwidth\":2,\"linecolor\":\"white\",\"showbackground\":true,\"ticks\":\"\",\"zerolinecolor\":\"white\"},\"zaxis\":{\"backgroundcolor\":\"#E5ECF6\",\"gridcolor\":\"white\",\"gridwidth\":2,\"linecolor\":\"white\",\"showbackground\":true,\"ticks\":\"\",\"zerolinecolor\":\"white\"}},\"shapedefaults\":{\"line\":{\"color\":\"#2a3f5f\"}},\"ternary\":{\"aaxis\":{\"gridcolor\":\"white\",\"linecolor\":\"white\",\"ticks\":\"\"},\"baxis\":{\"gridcolor\":\"white\",\"linecolor\":\"white\",\"ticks\":\"\"},\"bgcolor\":\"#E5ECF6\",\"caxis\":{\"gridcolor\":\"white\",\"linecolor\":\"white\",\"ticks\":\"\"}},\"title\":{\"x\":0.05},\"xaxis\":{\"automargin\":true,\"gridcolor\":\"white\",\"linecolor\":\"white\",\"ticks\":\"\",\"title\":{\"standoff\":15},\"zerolinecolor\":\"white\",\"zerolinewidth\":2},\"yaxis\":{\"automargin\":true,\"gridcolor\":\"white\",\"linecolor\":\"white\",\"ticks\":\"\",\"title\":{\"standoff\":15},\"zerolinecolor\":\"white\",\"zerolinewidth\":2}}},\"title\":{\"text\":\"Training Data Used for Each Species, Separated By Presence and Absence Data\"},\"xaxis\":{\"anchor\":\"y\",\"categoryorder\":\"total descending\",\"domain\":[0.0,1.0],\"tickangle\":45,\"title\":{\"text\":\"Brazilian Amazon Bird Species\"}},\"yaxis\":{\"anchor\":\"x\",\"domain\":[0.0,1.0],\"title\":{\"text\":\"Amount of Recordings Available\"}}},                        {\"responsive\": true}                    )                };                            </script>        </div>'"
      ]
     },
     "execution_count": 8,
     "metadata": {},
     "output_type": "execute_result"
    }
   ],
   "source": [
    "plotly.offline.plot(sortedbarchart, include_plotlyjs=False, output_type='div')"
   ]
  },
  {
   "cell_type": "code",
   "execution_count": null,
   "id": "97ebe22e",
   "metadata": {},
   "outputs": [
    {
     "name": "stdout",
     "output_type": "stream",
     "text": [
      "Dash is running on http://127.0.0.1:8050/\n",
      "\n",
      " * Serving Flask app \"__main__\" (lazy loading)\n",
      " * Environment: production\n",
      "\u001b[31m   WARNING: This is a development server. Do not use it in a production deployment.\u001b[0m\n",
      "\u001b[2m   Use a production WSGI server instead.\u001b[0m\n",
      " * Debug mode: on\n"
     ]
    }
   ],
   "source": [
    "from dash import Dash, dcc, html, Input, Output\n",
    "import plotly.express as px\n",
    "\n",
    "app = Dash(__name__)\n",
    "\n",
    "app.layout = html.Div([\n",
    "    html.H1('Rainforest Connection CNN Visualization Dashboard'),\n",
    "    dcc.Graph(figure = sortedbarchart, id=\"graph\"),\n",
    "    html.H4('Click on present or absent in the key to hide those datapoints')\n",
    "])\n",
    "\n",
    "app.run_server(debug=True, use_reloader=False)"
   ]
  },
  {
   "cell_type": "code",
   "execution_count": null,
   "id": "14f2661d",
   "metadata": {},
   "outputs": [],
   "source": []
  }
 ],
 "metadata": {
  "kernelspec": {
   "display_name": "Python 3 (ipykernel)",
   "language": "python",
   "name": "python3"
  },
  "language_info": {
   "codemirror_mode": {
    "name": "ipython",
    "version": 3
   },
   "file_extension": ".py",
   "mimetype": "text/x-python",
   "name": "python",
   "nbconvert_exporter": "python",
   "pygments_lexer": "ipython3",
   "version": "3.9.12"
  }
 },
 "nbformat": 4,
 "nbformat_minor": 5
}
